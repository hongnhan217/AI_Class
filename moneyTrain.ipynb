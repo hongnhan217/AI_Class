{
  "nbformat": 4,
  "nbformat_minor": 0,
  "metadata": {
    "colab": {
      "provenance": [],
      "mount_file_id": "1NHkeftcepEtUCYAGMk3x4NsXohNyEdL4",
      "authorship_tag": "ABX9TyPSWqGse9UUBnaCboBzsj4f",
      "include_colab_link": true
    },
    "kernelspec": {
      "name": "python3",
      "display_name": "Python 3"
    },
    "language_info": {
      "name": "python"
    }
  },
  "cells": [
    {
      "cell_type": "markdown",
      "metadata": {
        "id": "view-in-github",
        "colab_type": "text"
      },
      "source": [
        "<a href=\"https://colab.research.google.com/github/hongnhan217/AI_Class/blob/main/moneyTrain.ipynb\" target=\"_parent\"><img src=\"https://colab.research.google.com/assets/colab-badge.svg\" alt=\"Open In Colab\"/></a>"
      ]
    },
    {
      "cell_type": "code",
      "execution_count": null,
      "metadata": {
        "id": "OUEIdDsh6zTm"
      },
      "outputs": [],
      "source": [
        "import matplotlib.pyplot as plt\n",
        "from matplotlib.image import imread\n",
        "from os import listdir\n",
        "import numpy as np\n",
        "from numpy import asarray\n",
        "from numpy import save\n",
        "from keras.utils import load_img, img_to_array\n",
        "\n",
        "folder='/content/drive/MyDrive/VN_money_total'"
      ]
    },
    {
      "cell_type": "code",
      "source": [
        "folder = '/content/drive/MyDrive/VN_money_total/'\n",
        "photos,labels = list(),list()\n",
        "\n",
        "for file in listdir(folder):\n",
        "  output = 0.0\n",
        "\n",
        "  if file.startswith('namNghin'):\n",
        "    output = 1.0\n",
        "\n",
        "  if file.startswith('muoiNghin'):\n",
        "    output = 2.0\n",
        "\n",
        "  if file.startswith('haiMuoiNghin'):\n",
        "    output = 3.0\n",
        "\n",
        "  if file.startswith('namMuoiNghin'):\n",
        "    output = 4.0\n",
        " \n",
        "  if file.startswith('motTramNghin'):\n",
        "    output = 5.0\n",
        "\n",
        "  if file.startswith('namTramNghin'):\n",
        "    output = 6.0\n",
        "\n",
        "  photo = load_img(folder + file, target_size=(150,150))\n",
        "  photo = img_to_array(photo)\n",
        "  photos.append(photo)\n",
        "  labels.append(output)\n",
        "\n",
        "photos = asarray(photos)\n",
        "labels = asarray(labels)\n",
        "print(photos.shape, labels.shape)\n",
        "save('/content/drive/MyDrive/pic_train/VN_banknotes_photos.npy',photos)\n",
        "save('/content/drive/MyDrive/pic_train/VN_banknotes_labels.npy',labels)"
      ],
      "metadata": {
        "colab": {
          "base_uri": "https://localhost:8080/"
        },
        "id": "iXVtmvGNC5GJ",
        "outputId": "43aae9f0-2373-4548-9ae7-f5059f8746e3"
      },
      "execution_count": null,
      "outputs": [
        {
          "output_type": "stream",
          "name": "stdout",
          "text": [
            "(147, 150, 150, 3) (147,)\n"
          ]
        }
      ]
    },
    {
      "cell_type": "code",
      "source": [],
      "metadata": {
        "id": "aH7NJLSyDgoJ"
      },
      "execution_count": null,
      "outputs": []
    }
  ]
}