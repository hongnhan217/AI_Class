{
  "nbformat": 4,
  "nbformat_minor": 0,
  "metadata": {
    "colab": {
      "provenance": [],
      "mount_file_id": "1-3DAR5ymdJuTcUNWCl_DCi10hSYxPBR0",
      "authorship_tag": "ABX9TyPIGcwfmcBB9p/VOqdeo5ld",
      "include_colab_link": true
    },
    "kernelspec": {
      "name": "python3",
      "display_name": "Python 3"
    },
    "language_info": {
      "name": "python"
    },
    "gpuClass": "standard"
  },
  "cells": [
    {
      "cell_type": "markdown",
      "metadata": {
        "id": "view-in-github",
        "colab_type": "text"
      },
      "source": [
        "<a href=\"https://colab.research.google.com/github/hongnhan217/AI_Class/blob/main/AI_W11.ipynb\" target=\"_parent\"><img src=\"https://colab.research.google.com/assets/colab-badge.svg\" alt=\"Open In Colab\"/></a>"
      ]
    },
    {
      "cell_type": "code",
      "source": [
        "from keras.datasets import fashion_mnist\n",
        "import matplotlib.pyplot as plt"
      ],
      "metadata": {
        "colab": {
          "base_uri": "https://localhost:8080/"
        },
        "id": "iGlwurjGfipj",
        "outputId": "c2069c80-e2dd-427f-8632-716416ce782d"
      },
      "execution_count": null,
      "outputs": [
        {
          "output_type": "stream",
          "name": "stdout",
          "text": [
            "Downloading data from https://storage.googleapis.com/tensorflow/tf-keras-datasets/train-labels-idx1-ubyte.gz\n",
            "29515/29515 [==============================] - 0s 0us/step\n",
            "Downloading data from https://storage.googleapis.com/tensorflow/tf-keras-datasets/train-images-idx3-ubyte.gz\n",
            "26421880/26421880 [==============================] - 0s 0us/step\n",
            "Downloading data from https://storage.googleapis.com/tensorflow/tf-keras-datasets/t10k-labels-idx1-ubyte.gz\n",
            "5148/5148 [==============================] - 0s 0us/step\n",
            "Downloading data from https://storage.googleapis.com/tensorflow/tf-keras-datasets/t10k-images-idx3-ubyte.gz\n",
            "4422102/4422102 [==============================] - 0s 0us/step\n"
          ]
        }
      ]
    },
    {
      "cell_type": "code",
      "source": [
        "(x_train,y_train),(x_test,y_test)=fashion_mnist.load_data()"
      ],
      "metadata": {
        "id": "fFcOnza0iMRP"
      },
      "execution_count": null,
      "outputs": []
    },
    {
      "cell_type": "code",
      "source": [
        "print(x_train.shape,x_test.shape)"
      ],
      "metadata": {
        "colab": {
          "base_uri": "https://localhost:8080/"
        },
        "id": "Gnlb4RLNf6ot",
        "outputId": "228917a3-1c24-4947-a179-010bff84bab1"
      },
      "execution_count": null,
      "outputs": [
        {
          "output_type": "stream",
          "name": "stdout",
          "text": [
            "(60000, 28, 28) (10000, 28, 28)\n"
          ]
        }
      ]
    },
    {
      "cell_type": "code",
      "source": [
        "digit = x_train[5]\n",
        "plt.imshow(digit,cmap=plt.cm.binary)\n",
        "plt.show()\n",
        "print(\"so:\",y_train[5])"
      ],
      "metadata": {
        "colab": {
          "base_uri": "https://localhost:8080/",
          "height": 448
        },
        "id": "KBq2Su-ggF1w",
        "outputId": "e8ceeedc-d2d4-4934-d868-d85b622bd080"
      },
      "execution_count": null,
      "outputs": [
        {
          "output_type": "display_data",
          "data": {
            "text/plain": [
              "<Figure size 640x480 with 1 Axes>"
            ],
            "image/png": "[encoded data removed]"
          },
          "metadata": {}
        },
        {
          "output_type": "stream",
          "name": "stdout",
          "text": [
            "so: 2\n"
          ]
        }
      ]
    },
    {
      "cell_type": "code",
      "source": [
        "x_train = x_train.reshape(60000,28,28,1)\n",
        "x_test = x_test.reshape(10000,28,28,1)"
      ],
      "metadata": {
        "id": "Oy-hTElygLFp"
      },
      "execution_count": null,
      "outputs": []
    },
    {
      "cell_type": "code",
      "source": [
        "print(x_train.shape,x_test.shape)"
      ],
      "metadata": {
        "colab": {
          "base_uri": "https://localhost:8080/"
        },
        "id": "JD-_tO1tgnNu",
        "outputId": "d871dbf0-4999-4040-9908-e8c3f2c096e1"
      },
      "execution_count": null,
      "outputs": [
        {
          "output_type": "stream",
          "name": "stdout",
          "text": [
            "(60000, 28, 28, 1) (10000, 28, 28, 1)\n"
          ]
        }
      ]
    },
    {
      "cell_type": "code",
      "source": [
        "x_train = x_train/255.0\n",
        "x_test = x_test/255.0"
      ],
      "metadata": {
        "id": "jLuLjJsCgvrY"
      },
      "execution_count": null,
      "outputs": []
    },
    {
      "cell_type": "code",
      "source": [
        "from keras.utils import to_categorical\n",
        "# chi chay 1 lan cho moi lan chay toan chuong trinh\n",
        "y_train = to_categorical(y_train,10)\n",
        "y_test = to_categorical(y_test,10)\n",
        "print(y_train.shape,y_test.shape)"
      ],
      "metadata": {
        "colab": {
          "base_uri": "https://localhost:8080/"
        },
        "id": "3rA0_ohmhDvl",
        "outputId": "d62698af-fcc1-48e1-9c9c-008e8dfde1db"
      },
      "execution_count": null,
      "outputs": [
        {
          "output_type": "stream",
          "name": "stdout",
          "text": [
            "(60000, 10) (10000, 10)\n"
          ]
        }
      ]
    },
    {
      "cell_type": "code",
      "source": [
        "from collections.abc import Sequence\n",
        "from keras.models import Sequential\n",
        "from keras.layers import Dense, Dropout, Flatten, Conv2D, MaxPooling2D, Normalization, LeakyReLU\n",
        "from keras.optimizers import Adam\n",
        "\n",
        "model = Sequential()\n",
        "model.add(Conv2D(32,kernel_size = (3,3),activation = 'linear', input_shape = (28,28,1),\n",
        "                 padding = 'same'))\n",
        "model.add(LeakyReLU(alpha=0.1))\n",
        "model.add(MaxPooling2D((2,2),padding = 'same'))\n",
        "\n",
        "model.add(Conv2D(64,(3,3),activation = 'linear',padding = 'same'))\n",
        "model.add(LeakyReLU(alpha=0.1))\n",
        "model.add(MaxPooling2D((2,2),padding = 'same'))\n",
        "\n",
        "model.add(Conv2D(128,(3,3),activation = 'linear',padding = 'same'))\n",
        "model.add(LeakyReLU(alpha=0.1))\n",
        "model.add(MaxPooling2D((2,2),padding = 'same'))\n",
        "\n",
        "model.add(Flatten())\n",
        "model.add(Dense(128,activation = 'linear'))\n",
        "model.add(LeakyReLU(alpha=0.1))\n",
        "model.add(Dense(10,activation='softmax'))\n",
        "\n",
        "# model.summary()\n",
        "\n",
        "from keras.losses import categorical_crossentropy\n",
        "\n",
        "model.compile(loss='categorical_crossentropy',optimizer=Adam(),metrics=['accuracy'])\n",
        "train = model.fit(x_train,y_train,epochs=20,batch_size=64,verbose=1)"
      ],
      "metadata": {
        "colab": {
          "base_uri": "https://localhost:8080/"
        },
        "id": "ETs6bjmThdRh",
        "outputId": "acadf675-d8e3-4679-ce79-6d1a7c2aa63b"
      },
      "execution_count": null,
      "outputs": [
        {
          "output_type": "stream",
          "name": "stdout",
          "text": [
            "Epoch 1/20\n",
            "938/938 [==============================] - 14s 5ms/step - loss: 0.4396 - accuracy: 0.8405\n",
            "Epoch 2/20\n",
            "938/938 [==============================] - 4s 4ms/step - loss: 0.2742 - accuracy: 0.9004\n",
            "Epoch 3/20\n",
            "938/938 [==============================] - 4s 4ms/step - loss: 0.2281 - accuracy: 0.9161\n",
            "Epoch 4/20\n",
            "938/938 [==============================] - 4s 5ms/step - loss: 0.1967 - accuracy: 0.9265\n",
            "Epoch 5/20\n",
            "938/938 [==============================] - 4s 4ms/step - loss: 0.1709 - accuracy: 0.9355\n",
            "Epoch 6/20\n",
            "938/938 [==============================] - 4s 4ms/step - loss: 0.1489 - accuracy: 0.9445\n",
            "Epoch 7/20\n",
            "938/938 [==============================] - 4s 5ms/step - loss: 0.1284 - accuracy: 0.9517\n",
            "Epoch 8/20\n",
            "938/938 [==============================] - 4s 4ms/step - loss: 0.1115 - accuracy: 0.9584\n",
            "Epoch 9/20\n",
            "938/938 [==============================] - 4s 4ms/step - loss: 0.0917 - accuracy: 0.9650\n",
            "Epoch 10/20\n",
            "938/938 [==============================] - 4s 5ms/step - loss: 0.0798 - accuracy: 0.9697\n",
            "Epoch 11/20\n",
            "938/938 [==============================] - 4s 4ms/step - loss: 0.0701 - accuracy: 0.9736\n",
            "Epoch 12/20\n",
            "938/938 [==============================] - 4s 4ms/step - loss: 0.0606 - accuracy: 0.9771\n",
            "Epoch 13/20\n",
            "938/938 [==============================] - 4s 5ms/step - loss: 0.0548 - accuracy: 0.9790\n",
            "Epoch 14/20\n",
            "938/938 [==============================] - 4s 4ms/step - loss: 0.0435 - accuracy: 0.9839\n",
            "Epoch 15/20\n",
            "938/938 [==============================] - 4s 4ms/step - loss: 0.0446 - accuracy: 0.9828\n",
            "Epoch 16/20\n",
            "938/938 [==============================] - 4s 5ms/step - loss: 0.0397 - accuracy: 0.9851\n",
            "Epoch 17/20\n",
            "938/938 [==============================] - 4s 4ms/step - loss: 0.0363 - accuracy: 0.9869\n",
            "Epoch 18/20\n",
            "938/938 [==============================] - 4s 4ms/step - loss: 0.0357 - accuracy: 0.9867\n",
            "Epoch 19/20\n",
            "938/938 [==============================] - 4s 5ms/step - loss: 0.0299 - accuracy: 0.9892\n",
            "Epoch 20/20\n",
            "938/938 [==============================] - 4s 4ms/step - loss: 0.0313 - accuracy: 0.9882\n"
          ]
        }
      ]
    },
    {
      "cell_type": "code",
      "source": [
        "model.save('/content/drive/MyDrive/Colab Notebooks/w11_fasionMnist.h5')\n"
      ],
      "metadata": {
        "id": "DLfDj8fdljtU"
      },
      "execution_count": null,
      "outputs": []
    },
    {
      "cell_type": "code",
      "source": [
        "from keras.models import load_model\n",
        "\n",
        "model1 = load_model('/content/drive/MyDrive/Colab Notebooks/w11_fasionMnist.h5')"
      ],
      "metadata": {
        "id": "0-Tz3n_Spvaa"
      },
      "execution_count": null,
      "outputs": []
    },
    {
      "cell_type": "code",
      "source": [
        "x = \n",
        "digit = x[4321]\n",
        "plt.imshow(digit,cmap=plt.cm.binary)\n",
        "plt.show()\n",
        "print(\"so:\",y_test[4321])"
      ],
      "metadata": {
        "id": "GqfgI-n9rIcO"
      },
      "execution_count": null,
      "outputs": []
    },
    {
      "cell_type": "code",
      "source": [],
      "metadata": {
        "id": "g13TkTrirPbC"
      },
      "execution_count": null,
      "outputs": []
    }
  ]
}