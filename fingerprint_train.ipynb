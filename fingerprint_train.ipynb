{
  "cells": [
    {
      "cell_type": "markdown",
      "metadata": {
        "id": "view-in-github",
        "colab_type": "text"
      },
      "source": [
        "<a href=\"https://colab.research.google.com/github/hongnhan217/AI_Class/blob/main/fingerprint_train.ipynb\" target=\"_parent\"><img src=\"https://colab.research.google.com/assets/colab-badge.svg\" alt=\"Open In Colab\"/></a>"
      ]
    },
    {
      "cell_type": "code",
      "execution_count": null,
      "metadata": {
        "id": "-ysufShK05tP"
      },
      "outputs": [],
      "source": [
        "import matplotlib.pyplot as plt\n",
        "from matplotlib.image import imread\n",
        "from os import listdir\n",
        "import numpy as np\n",
        "from numpy import asarray\n",
        "from numpy import save\n",
        "from keras.utils import load_img, img_to_array\n",
        "\n",
        "folder='/content/drive/MyDrive/total_finger'"
      ]
    },
    {
      "cell_type": "code",
      "execution_count": null,
      "metadata": {
        "id": "vCZQSKAY7GO6",
        "colab": {
          "base_uri": "https://localhost:8080/"
        },
        "outputId": "79ecad52-dafb-4d8c-e624-8cab47d0de4d"
      },
      "outputs": [
        {
          "output_type": "stream",
          "name": "stdout",
          "text": [
            "(477, 150, 150, 3) (477,)\n"
          ]
        }
      ],
      "source": [
        "folder = '/content/drive/MyDrive/total_finger/'\n",
        "photos,labels = list(),list()\n",
        "\n",
        "for file in listdir(folder):\n",
        "  output = 0.0\n",
        "\n",
        "  if file.startswith('develop'):\n",
        "    output = 1.0\n",
        "\n",
        "  if file.startswith('difficult'):\n",
        "    output = 2.0\n",
        "\n",
        "  if file.startswith('lucky'):\n",
        "    output = 3.0\n",
        "\n",
        "  if file.startswith('normal'):\n",
        "    output = 4.0\n",
        "\n",
        "  if file.startswith('romantic'):\n",
        "    output = 5.0\n",
        "\n",
        "  if file.startswith('unknow'):\n",
        "    output = 6.0\n",
        "    \n",
        "  if file.startswith('unlucky'):\n",
        "    output = 7.0\n",
        "\n",
        "  photo = load_img(folder + file, target_size=(150,150))\n",
        "  photo = img_to_array(photo)\n",
        "  photos.append(photo)\n",
        "  labels.append(output)\n",
        "\n",
        "photos = asarray(photos)\n",
        "labels = asarray(labels)\n",
        "print(photos.shape, labels.shape)\n",
        "save('/content/drive/MyDrive/pic_train/finger_print_photos.npy',photos)\n",
        "save('/content/drive/MyDrive/pic_train/finger_print_labels.npy',labels)"
      ]
    },
    {
      "cell_type": "code",
      "source": [],
      "metadata": {
        "id": "1vsKHqjbMpgc"
      },
      "execution_count": null,
      "outputs": []
    }
  ],
  "metadata": {
    "colab": {
      "provenance": [],
      "mount_file_id": "1vfCrW6Up4xzf-8esjmv_L4sXFrvQgxOR",
      "authorship_tag": "ABX9TyMhUOKXWWDFW1x8r0BFUNho",
      "include_colab_link": true
    },
    "kernelspec": {
      "display_name": "Python 3",
      "name": "python3"
    },
    "language_info": {
      "name": "python"
    }
  },
  "nbformat": 4,
  "nbformat_minor": 0
}