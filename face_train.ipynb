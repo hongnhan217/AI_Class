{
  "nbformat": 4,
  "nbformat_minor": 0,
  "metadata": {
    "colab": {
      "provenance": [],
      "mount_file_id": "1Hq1gXSiypAdl57HoL43ZxW5MD_OtUpMx",
      "authorship_tag": "ABX9TyO25N8rBaI295OARmcZTUkv",
      "include_colab_link": true
    },
    "kernelspec": {
      "name": "python3",
      "display_name": "Python 3"
    },
    "language_info": {
      "name": "python"
    },
    "accelerator": "GPU",
    "gpuClass": "standard"
  },
  "cells": [
    {
      "cell_type": "markdown",
      "metadata": {
        "id": "view-in-github",
        "colab_type": "text"
      },
      "source": [
        "<a href=\"https://colab.research.google.com/github/hongnhan217/AI_Class/blob/main/face_train.ipynb\" target=\"_parent\"><img src=\"https://colab.research.google.com/assets/colab-badge.svg\" alt=\"Open In Colab\"/></a>"
      ]
    },
    {
      "cell_type": "code",
      "execution_count": 1,
      "metadata": {
        "id": "4nIxD4iyLjJJ"
      },
      "outputs": [],
      "source": [
        "import matplotlib.pyplot as plt\n",
        "from matplotlib.image import imread\n",
        "from os import listdir\n",
        "import numpy as np\n",
        "from numpy import asarray\n",
        "from numpy import save\n",
        "from keras.utils import load_img, img_to_array\n",
        "\n",
        "folder='/content/drive/MyDrive/colect_img'"
      ]
    },
    {
      "cell_type": "code",
      "source": [
        "folder = '/content/drive/MyDrive/colect_img/'\n",
        "photos,labels = list(),list()\n",
        "\n",
        "for file in listdir(folder):\n",
        "  output = 0.0\n",
        "\n",
        "  if file.startswith('Thanh'):\n",
        "    output = 1.0\n",
        "\n",
        "  if file.startswith('dat'):\n",
        "    output = 2.0\n",
        "\n",
        "  if file.startswith('nhn'):\n",
        "    output = 3.0\n",
        "\n",
        "  if file.startswith('nhut'):\n",
        "    output = 4.0\n",
        "\n",
        "  if file.startswith('phat'):\n",
        "    output = 5.0\n",
        "\n",
        "  if file.startswith('quan'):\n",
        "    output = 6.0\n",
        "    \n",
        "  if file.startswith('tan'):\n",
        "    output = 7.0\n",
        "\n",
        "  if file.startswith('tanthanh'):\n",
        "    output = 8.0\n",
        "\n",
        "  if file.startswith('tuan'):\n",
        "    output = 9.0\n",
        "\n",
        "  photo = load_img(folder + file, target_size=(150,150))\n",
        "  photo = img_to_array(photo)\n",
        "  photos.append(photo)\n",
        "  labels.append(output)\n",
        "\n",
        "photos = asarray(photos)\n",
        "labels = asarray(labels)\n",
        "print(photos.shape, labels.shape)\n",
        "save('/content/drive/MyDrive/pic_train/face_photos.npy',photos)\n",
        "save('/content/drive/MyDrive/pic_train/face_labels.npy',labels)"
      ],
      "metadata": {
        "colab": {
          "base_uri": "https://localhost:8080/"
        },
        "id": "6jrVSANYZNb5",
        "outputId": "1917f0d7-4afe-4244-895f-1116efc5eb47"
      },
      "execution_count": 2,
      "outputs": [
        {
          "output_type": "stream",
          "name": "stdout",
          "text": [
            "(539, 150, 150, 3) (539,)\n"
          ]
        }
      ]
    },
    {
      "cell_type": "code",
      "source": [],
      "metadata": {
        "id": "Co-bTJHJn-Dh"
      },
      "execution_count": null,
      "outputs": []
    }
  ]
}