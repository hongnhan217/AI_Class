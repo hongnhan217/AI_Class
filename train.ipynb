{
  "nbformat": 4,
  "nbformat_minor": 0,
  "metadata": {
    "colab": {
      "provenance": [],
      "mount_file_id": "1kaquolgCzrk1uB-_zErtb8Jy8tPL5Drx",
      "authorship_tag": "ABX9TyMZeIdH+g9VgU1FJF5Lv5uU",
      "include_colab_link": true
    },
    "kernelspec": {
      "name": "python3",
      "display_name": "Python 3"
    },
    "language_info": {
      "name": "python"
    },
    "gpuClass": "standard"
  },
  "cells": [
    {
      "cell_type": "markdown",
      "metadata": {
        "id": "view-in-github",
        "colab_type": "text"
      },
      "source": [
        "<a href=\"https://colab.research.google.com/github/hongnhan217/AI_Class/blob/main/train.ipynb\" target=\"_parent\"><img src=\"https://colab.research.google.com/assets/colab-badge.svg\" alt=\"Open In Colab\"/></a>"
      ]
    },
    {
      "cell_type": "code",
      "execution_count": 1,
      "metadata": {
        "id": "R7SH6uKTOMVh"
      },
      "outputs": [],
      "source": [
        "import matplotlib.pyplot as plt\n",
        "from matplotlib.image import imread\n",
        "from os import listdir\n",
        "import numpy as np\n",
        "from numpy import asarray\n",
        "from numpy import save\n",
        "from keras.utils import load_img, img_to_array\n",
        "\n",
        "folder='/content/drive/MyDrive/Image'"
      ]
    },
    {
      "cell_type": "code",
      "source": [
        "folder = '/content/drive/MyDrive/Image/'\n",
        "photos,labels = list(),list()\n",
        "\n",
        "for file in listdir(folder):\n",
        "  output = 0.0\n",
        "  # neu file co 'nhn' \n",
        "  if file.startswith('banhBeo'):\n",
        "    output = 1.0\n",
        "  # neu file co 'Thanh'\n",
        "  if file.startswith('banhBotLoc'):\n",
        "    output = 2.0\n",
        "    # neu file co 'Thanh'\n",
        "  if file.startswith('banhXeo'):\n",
        "    output = 3.0\n",
        "    # neu file co 'Thanh'\n",
        "  if file.startswith('banhGio'):\n",
        "    output = 4.0\n",
        "    # neu file co 'Thanh'\n",
        "  if file.startswith('banhChung'):\n",
        "    output = 5.0\n",
        "    # neu file co 'Thanh'\n",
        "  if file.startswith('banhTet'):\n",
        "    output = 6.0\n",
        "    # neu file co 'Thanh'\n",
        "  if file.startswith('goiCuon'):\n",
        "    output = 7.0\n",
        "    # neu file co 'Thanh'\n",
        "  if file.startswith('bunRieu'):\n",
        "    output = 8.0\n",
        "    # neu file co 'Thanh'\n",
        "  if file.startswith('pho'):\n",
        "    output = 9.0\n",
        "    # neu file co 'Thanh'\n",
        "  if file.startswith('bunBoHue'):\n",
        "    output = 10.0\n",
        "\n",
        "  photo = load_img(folder + file, target_size=(150,150))\n",
        "  photo = img_to_array(photo)\n",
        "  photos.append(photo)\n",
        "  labels.append(output)\n",
        "\n",
        "photos = asarray(photos)\n",
        "labels = asarray(labels)\n",
        "print(photos.shape, labels.shape)\n",
        "save('/content/drive/MyDrive/pic_train/ten_dishes_photos.npy',photos)\n",
        "save('/content/drive/MyDrive/pic_train/ten_dishes_labels.npy',labels)"
      ],
      "metadata": {
        "colab": {
          "base_uri": "https://localhost:8080/"
        },
        "id": "Fa5JkHaIOQyN",
        "outputId": "b2b6931e-9c5d-4881-d2f1-30cdcbcf4a3e"
      },
      "execution_count": 2,
      "outputs": [
        {
          "output_type": "stream",
          "name": "stdout",
          "text": [
            "(6095, 150, 150, 3) (6095,)\n"
          ]
        }
      ]
    },
    {
      "cell_type": "code",
      "source": [
        "photos = np.load('/content/drive/MyDrive/pic_train/ten_dishes_photos.npy')\n",
        "labels = np.load('/content/drive/MyDrive/pic_train/ten_dishes_labels.npy')"
      ],
      "metadata": {
        "id": "byxnUmsqOZjD"
      },
      "execution_count": null,
      "outputs": []
    }
  ]
}