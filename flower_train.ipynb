{
  "nbformat": 4,
  "nbformat_minor": 0,
  "metadata": {
    "colab": {
      "provenance": [],
      "mount_file_id": "1dSqKYjKuLNjSjY7oljSr9HF5NgbmrgGK",
      "authorship_tag": "ABX9TyPlchjZy8p0IBuoHgal1/gR",
      "include_colab_link": true
    },
    "kernelspec": {
      "name": "python3",
      "display_name": "Python 3"
    },
    "language_info": {
      "name": "python"
    },
    "accelerator": "GPU",
    "gpuClass": "standard"
  },
  "cells": [
    {
      "cell_type": "markdown",
      "metadata": {
        "id": "view-in-github",
        "colab_type": "text"
      },
      "source": [
        "<a href=\"https://colab.research.google.com/github/hongnhan217/AI_Class/blob/main/flower_train.ipynb\" target=\"_parent\"><img src=\"https://colab.research.google.com/assets/colab-badge.svg\" alt=\"Open In Colab\"/></a>"
      ]
    },
    {
      "cell_type": "code",
      "execution_count": 1,
      "metadata": {
        "id": "Hed5660eNaOT"
      },
      "outputs": [],
      "source": [
        "import matplotlib.pyplot as plt\n",
        "from matplotlib.image import imread\n",
        "from os import listdir\n",
        "import numpy as np\n",
        "from numpy import asarray\n",
        "from numpy import save\n",
        "from keras.utils import load_img, img_to_array\n",
        "\n",
        "folder='/content/drive/MyDrive/flower_p'"
      ]
    },
    {
      "cell_type": "code",
      "source": [
        "folder = '/content/drive/MyDrive/flower_p/'\n",
        "photos,labels = list(),list()\n",
        "\n",
        "for file in listdir(folder):\n",
        "  output = 0.0\n",
        "\n",
        "  if file.startswith('tulip'):\n",
        "    output = 1.0\n",
        "\n",
        "  if file.startswith('sunflower'):\n",
        "    output = 2.0\n",
        "\n",
        "  if file.startswith('lotus'):\n",
        "    output = 3.0\n",
        "\n",
        "  if file.startswith('daisy'):\n",
        "    output = 4.0\n",
        "\n",
        "  if file.startswith('rose'):\n",
        "    output = 5.0\n",
        "\n",
        "\n",
        "\n",
        "  photo = load_img(folder + file, target_size=(150,150))\n",
        "  photo = img_to_array(photo)\n",
        "  photos.append(photo)\n",
        "  labels.append(output)\n",
        "\n",
        "photos = asarray(photos)\n",
        "labels = asarray(labels)\n",
        "print(photos.shape, labels.shape)\n",
        "save('/content/drive/MyDrive/pic_train/five_flower_photos.npy',photos)\n",
        "save('/content/drive/MyDrive/pic_train/five_flower_labels.npy',labels)"
      ],
      "metadata": {
        "colab": {
          "base_uri": "https://localhost:8080/"
        },
        "id": "eI1Ki1b-PAsP",
        "outputId": "9ddd3ee3-7247-4aa0-dea4-36372e129e32"
      },
      "execution_count": 3,
      "outputs": [
        {
          "output_type": "stream",
          "name": "stdout",
          "text": [
            "(900, 150, 150, 3) (900,)\n"
          ]
        }
      ]
    },
    {
      "cell_type": "code",
      "source": [],
      "metadata": {
        "id": "AfTQyXCsPSo-"
      },
      "execution_count": null,
      "outputs": []
    }
  ]
}